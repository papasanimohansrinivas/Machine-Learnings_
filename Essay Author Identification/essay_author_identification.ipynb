{
 "cells": [
  {
   "cell_type": "code",
   "execution_count": 85,
   "metadata": {
    "collapsed": true
   },
   "outputs": [],
   "source": [
    "import bag_of_words"
   ]
  },
  {
   "cell_type": "code",
   "execution_count": 86,
   "metadata": {
    "collapsed": true
   },
   "outputs": [],
   "source": [
    "bag_of_words.text_extraction()"
   ]
  },
  {
   "cell_type": "code",
   "execution_count": 87,
   "metadata": {
    "collapsed": true
   },
   "outputs": [],
   "source": [
    "import pickle"
   ]
  },
  {
   "cell_type": "code",
   "execution_count": 88,
   "metadata": {
    "collapsed": true
   },
   "outputs": [],
   "source": [
    "dictionary=pickle.load(open(\"dictionary\"))"
   ]
  },
  {
   "cell_type": "code",
   "execution_count": 89,
   "metadata": {
    "collapsed": true
   },
   "outputs": [],
   "source": [
    "from sklearn import feature_extraction"
   ]
  },
  {
   "cell_type": "code",
   "execution_count": 90,
   "metadata": {
    "collapsed": true
   },
   "outputs": [],
   "source": [
    "cv=feature_extraction.text.CountVectorizer"
   ]
  },
  {
   "cell_type": "code",
   "execution_count": 91,
   "metadata": {
    "collapsed": true
   },
   "outputs": [],
   "source": [
    "vector = cv(stop_words=\"english\")\n"
   ]
  },
  {
   "cell_type": "code",
   "execution_count": 107,
   "metadata": {},
   "outputs": [
    {
     "name": "stdout",
     "output_type": "stream",
     "text": [
      "92995\n"
     ]
    }
   ],
   "source": [
    "\n",
    "words = 0\n",
    "import operator\n",
    "\n",
    "for keys in dictionary:\n",
    "    for strings in dictionary[keys]:\n",
    "        fr = vector.fit_transform([strings]).toarray()[0]\n",
    "        words+=len(fr)\n",
    "#         print len(vector.vocabulary_)\n",
    "print words"
   ]
  },
  {
   "cell_type": "code",
   "execution_count": 93,
   "metadata": {},
   "outputs": [
    {
     "name": "stdout",
     "output_type": "stream",
     "text": [
      "{u'iam': 1, u'handosmne': 0}\n"
     ]
    }
   ],
   "source": [
    "asdd = \"iam handosmne\"\n",
    "\n",
    "s=vector.fit_transform([asdd])\n",
    "\n",
    "print vector.vocabulary_"
   ]
  },
  {
   "cell_type": "code",
   "execution_count": 94,
   "metadata": {},
   "outputs": [],
   "source": [
    "f = pickle.load(open(\"dictionary-3\"))"
   ]
  },
  {
   "cell_type": "code",
   "execution_count": 116,
   "metadata": {},
   "outputs": [
    {
     "name": "stdout",
     "output_type": "stream",
     "text": [
      "9322\n"
     ]
    }
   ],
   "source": [
    "n_words = 0\n",
    "unlucky = []\n",
    "\n",
    "for k in f:\n",
    "    len(vector.fit_transform([f[k]]).toarray()[0])\n",
    "    n_words+=len(vector.get_feature_names())\n",
    "    for u in vector.get_feature_names():\n",
    "        unlucky.append(u.encode(\"utf-8\"))\n",
    "#     print len(vector.get_feature_names()),k\n",
    "# for yo in set(unlucky):\n",
    "#     print yo\n",
    "print len(set(unlucky))"
   ]
  },
  {
   "cell_type": "code",
   "execution_count": null,
   "metadata": {
    "collapsed": true
   },
   "outputs": [],
   "source": []
  }
 ],
 "metadata": {
  "kernelspec": {
   "display_name": "Python 2",
   "language": "python",
   "name": "python2"
  },
  "language_info": {
   "codemirror_mode": {
    "name": "ipython",
    "version": 2
   },
   "file_extension": ".py",
   "mimetype": "text/x-python",
   "name": "python",
   "nbconvert_exporter": "python",
   "pygments_lexer": "ipython2",
   "version": "2.7"
  }
 },
 "nbformat": 4,
 "nbformat_minor": 2
}
