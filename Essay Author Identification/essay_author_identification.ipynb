{
 "cells": [
  {
   "cell_type": "code",
   "execution_count": 168,
   "metadata": {
    "collapsed": true
   },
   "outputs": [],
   "source": [
    "import bag_of_words"
   ]
  },
  {
   "cell_type": "code",
   "execution_count": 169,
   "metadata": {
    "collapsed": true
   },
   "outputs": [],
   "source": [
    "bag_of_words.text_extraction()"
   ]
  },
  {
   "cell_type": "code",
   "execution_count": 170,
   "metadata": {
    "collapsed": true
   },
   "outputs": [],
   "source": [
    "import pickle"
   ]
  },
  {
   "cell_type": "code",
   "execution_count": 171,
   "metadata": {
    "collapsed": true
   },
   "outputs": [],
   "source": [
    "dictionary=pickle.load(open(\"dictionary\"))"
   ]
  },
  {
   "cell_type": "code",
   "execution_count": 172,
   "metadata": {
    "collapsed": true
   },
   "outputs": [],
   "source": [
    "from sklearn import feature_extraction"
   ]
  },
  {
   "cell_type": "code",
   "execution_count": 173,
   "metadata": {
    "collapsed": true
   },
   "outputs": [],
   "source": [
    "cv=feature_extraction.text.CountVectorizer"
   ]
  },
  {
   "cell_type": "code",
   "execution_count": 174,
   "metadata": {
    "collapsed": true
   },
   "outputs": [],
   "source": [
    "vector = cv(stop_words=\"english\")\n"
   ]
  },
  {
   "cell_type": "code",
   "execution_count": 175,
   "metadata": {},
   "outputs": [
    {
     "name": "stdout",
     "output_type": "stream",
     "text": [
      "92995\n"
     ]
    }
   ],
   "source": [
    "\n",
    "words = 0\n",
    "\n",
    "for keys in dictionary:\n",
    "    for strings in dictionary[keys]:\n",
    "        fr = vector.fit_transform([strings]).toarray()[0]\n",
    "        words+=len(fr)\n",
    "#         print len(vector.vocabulary_)\n",
    "print words"
   ]
  },
  {
   "cell_type": "code",
   "execution_count": 184,
   "metadata": {},
   "outputs": [
    {
     "name": "stdout",
     "output_type": "stream",
     "text": [
      "{u'handosmne': 1, u'am': 0}\n"
     ]
    }
   ],
   "source": [
    "asdd = \"i am handosmne\"\n",
    "\n",
    "s=vector.fit_transform([asdd])\n",
    "\n",
    "print vector.vocabulary_"
   ]
  },
  {
   "cell_type": "code",
   "execution_count": 177,
   "metadata": {},
   "outputs": [],
   "source": [
    "f = pickle.load(open(\"dictionary-3\"))"
   ]
  },
  {
   "cell_type": "code",
   "execution_count": 189,
   "metadata": {},
   "outputs": [
    {
     "name": "stdout",
     "output_type": "stream",
     "text": [
      "9603\n"
     ]
    }
   ],
   "source": [
    "n_words = 0\n",
    "unlucky = []\n",
    "\n",
    "for k in f:\n",
    "    len(vector.fit_transform([f[k]]).toarray()[0])\n",
    "    n_words+=len(vector.get_feature_names())\n",
    "    for u in vector.get_feature_names():\n",
    "        unlucky.append(u.encode(\"utf-8\"))\n",
    "#     print len(vector.get_feature_names()),k\n",
    "# for yo in set(unlucky):\n",
    "#     print yo\n",
    "# for hg in unlucky:\n",
    "#     print hg\n",
    "print len(set(unlucky))"
   ]
  },
  {
   "cell_type": "code",
   "execution_count": 179,
   "metadata": {},
   "outputs": [
    {
     "name": "stdout",
     "output_type": "stream",
     "text": [
      "[[1 1 1 1 1 0 1]\n",
      " [0 0 1 0 0 1 0]]\n"
     ]
    }
   ],
   "source": [
    "vector = cv()\n",
    "zz=\" i am  , 123 32 ' asdasd' gudumba qwerty\"\n",
    "zx = \"i am haughty\"\n",
    "print vector.fit_transform([zz,zx]).toarray()"
   ]
  },
  {
   "cell_type": "code",
   "execution_count": 180,
   "metadata": {},
   "outputs": [
    {
     "name": "stdout",
     "output_type": "stream",
     "text": [
      "{u'qwerty': 6, u'123': 0, u'haughty': 5, u'gudumba': 4, u'32': 1, u'am': 2, u'asdasd': 3}\n"
     ]
    }
   ],
   "source": [
    "print vector.vocabulary_"
   ]
  },
  {
   "cell_type": "code",
   "execution_count": 186,
   "metadata": {},
   "outputs": [],
   "source": [
    "lst=pickle.load(open(\"list_of_texts\"))\n"
   ]
  },
  {
   "cell_type": "code",
   "execution_count": 187,
   "metadata": {},
   "outputs": [
    {
     "name": "stdout",
     "output_type": "stream",
     "text": [
      "[[0 0 0 ..., 0 0 0]\n",
      " [0 0 0 ..., 0 0 0]\n",
      " [0 0 0 ..., 0 0 0]\n",
      " ..., \n",
      " [0 0 0 ..., 0 0 0]\n",
      " [0 0 0 ..., 0 0 0]\n",
      " [0 0 0 ..., 0 0 0]]\n"
     ]
    }
   ],
   "source": [
    "print vector.fit_transform(lst).toarray()"
   ]
  },
  {
   "cell_type": "code",
   "execution_count": 190,
   "metadata": {},
   "outputs": [],
   "source": [
    "qwe=0\n",
    "for bcx in vector.get_feature_names():\n",
    "    qwe+=1\n",
    "    bcx.encode(\"utf-8\")\n",
    "# print qwe"
   ]
  },
  {
   "cell_type": "code",
   "execution_count": null,
   "metadata": {
    "collapsed": true
   },
   "outputs": [],
   "source": []
  },
  {
   "cell_type": "code",
   "execution_count": null,
   "metadata": {
    "collapsed": true
   },
   "outputs": [],
   "source": []
  },
  {
   "cell_type": "code",
   "execution_count": null,
   "metadata": {
    "collapsed": true
   },
   "outputs": [],
   "source": []
  }
 ],
 "metadata": {
  "kernelspec": {
   "display_name": "Python 2",
   "language": "python",
   "name": "python2"
  },
  "language_info": {
   "codemirror_mode": {
    "name": "ipython",
    "version": 2
   },
   "file_extension": ".py",
   "mimetype": "text/x-python",
   "name": "python",
   "nbconvert_exporter": "python",
   "pygments_lexer": "ipython2",
   "version": "2.7"
  }
 },
 "nbformat": 4,
 "nbformat_minor": 2
}
