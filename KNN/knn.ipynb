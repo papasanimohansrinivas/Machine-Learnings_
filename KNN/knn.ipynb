{
 "cells": [
  {
   "cell_type": "code",
   "execution_count": 1,
   "metadata": {
    "collapsed": true
   },
   "outputs": [],
   "source": [
    "# does float division in py -2 \n",
    "\n",
    "from __future__ import division\n",
    "\n",
    "# module to read arff format files \n",
    "\n",
    "import arff"
   ]
  },
  {
   "cell_type": "code",
   "execution_count": 2,
   "metadata": {
    "collapsed": true
   },
   "outputs": [],
   "source": [
    "training_file=\"trainProdSelection.arff\"\n",
    "\n",
    "testing_file=\"testProdSelection.arff\""
   ]
  },
  {
   "cell_type": "code",
   "execution_count": 3,
   "metadata": {
    "collapsed": true
   },
   "outputs": [],
   "source": [
    "def read_file(arff_file,file_):\n",
    "\n",
    "    \n",
    "    for row in arff.load(arff_file):\n",
    "        file_.append(\n",
    "                \n",
    "            [ \n",
    "                row['Type'],\n",
    "                row['LifeStyle'],\n",
    "                map(float,[row['Vacation'],row['eCredit'],row['salary'],row['property']]),\n",
    "                row['label']\n",
    "            ]\n",
    "            \n",
    "        )\n",
    "        \n",
    "    return file_"
   ]
  },
  {
   "cell_type": "code",
   "execution_count": 4,
   "metadata": {
    "collapsed": true
   },
   "outputs": [],
   "source": [
    "Dtrain = []\n",
    "Dtest = []\n",
    "Dtrain=read_file(training_file,Dtrain)\n",
    "\n",
    "Dtest=read_file(testing_file,Dtest)"
   ]
  },
  {
   "cell_type": "code",
   "execution_count": 5,
   "metadata": {
    "collapsed": true
   },
   "outputs": [],
   "source": [
    "from normalise_data import normalise_data\n"
   ]
  },
  {
   "cell_type": "code",
   "execution_count": 6,
   "metadata": {
    "collapsed": true
   },
   "outputs": [],
   "source": [
    "Dtrain = normalise_data(Dtrain)\n",
    "\n",
    "Dtest = normalise_data(Dtest)\n",
    "\n",
    "verification = lambda Dtest: [row_[3] for row_ in Dtest ]\n",
    "\n",
    "validation=verification(Dtest)"
   ]
  },
  {
   "cell_type": "code",
   "execution_count": 7,
   "metadata": {
    "collapsed": true
   },
   "outputs": [],
   "source": [
    "\n",
    "from knn import KNN"
   ]
  },
  {
   "cell_type": "code",
   "execution_count": 8,
   "metadata": {
    "collapsed": true
   },
   "outputs": [],
   "source": [
    "result=KNN(Dtest,Dtrain)"
   ]
  },
  {
   "cell_type": "code",
   "execution_count": 12,
   "metadata": {},
   "outputs": [
    {
     "name": "stdout",
     "output_type": "stream",
     "text": [
      "[1, 1, 1, 1, 0, 0, 0, 0, 0, 0, 0, 0, 0, 0, 1, 1, 0, 0, 0, 0, 0]\n"
     ]
    },
    {
     "data": {
      "text/plain": [
       "28.57142857142857"
      ]
     },
     "execution_count": 12,
     "metadata": {},
     "output_type": "execute_result"
    }
   ],
   "source": [
    "import accuracy \n",
    "\n",
    "accuracy.accuracy(result,validation)"
   ]
  },
  {
   "cell_type": "code",
   "execution_count": null,
   "metadata": {
    "collapsed": true
   },
   "outputs": [],
   "source": []
  },
  {
   "cell_type": "code",
   "execution_count": null,
   "metadata": {
    "collapsed": true
   },
   "outputs": [],
   "source": []
  }
 ],
 "metadata": {
  "kernelspec": {
   "display_name": "Python 2",
   "language": "python",
   "name": "python2"
  },
  "language_info": {
   "codemirror_mode": {
    "name": "ipython",
    "version": 2
   },
   "file_extension": ".py",
   "mimetype": "text/x-python",
   "name": "python",
   "nbconvert_exporter": "python",
   "pygments_lexer": "ipython2",
   "version": "2.7"
  }
 },
 "nbformat": 4,
 "nbformat_minor": 2
}
